{
 "cells": [
  {
   "cell_type": "code",
   "execution_count": 1,
   "metadata": {},
   "outputs": [],
   "source": [
    "import numpy as np\n",
    "import matplotlib.pyplot as plt\n",
    "import scipy\n",
    "from scipy.integrate import odeint"
   ]
  },
  {
   "cell_type": "code",
   "execution_count": 50,
   "metadata": {},
   "outputs": [
    {
     "ename": "KeyboardInterrupt",
     "evalue": "",
     "output_type": "error",
     "traceback": [
      "\u001b[1;31m---------------------------------------------------------------------------\u001b[0m",
      "\u001b[1;31mKeyboardInterrupt\u001b[0m                         Traceback (most recent call last)",
      "\u001b[1;32mc:\\Users\\79632\\VsProjects\\trashcan\\Laba5.ipynb Cell 2\u001b[0m line \u001b[0;36m<cell line: 21>\u001b[1;34m()\u001b[0m\n\u001b[0;32m     <a href='vscode-notebook-cell:/c%3A/Users/79632/VsProjects/trashcan/Laba5.ipynb#W1sZmlsZQ%3D%3D?line=24'>25</a>\u001b[0m         direction \u001b[39m=\u001b[39m move_direction()\n\u001b[0;32m     <a href='vscode-notebook-cell:/c%3A/Users/79632/VsProjects/trashcan/Laba5.ipynb#W1sZmlsZQ%3D%3D?line=25'>26</a>\u001b[0m         l \u001b[39m=\u001b[39m give_lenght()\n\u001b[1;32m---> <a href='vscode-notebook-cell:/c%3A/Users/79632/VsProjects/trashcan/Laba5.ipynb#W1sZmlsZQ%3D%3D?line=27'>28</a>\u001b[0m         point \u001b[39m+\u001b[39m\u001b[39m=\u001b[39m direction \u001b[39m*\u001b[39;49m l\n\u001b[0;32m     <a href='vscode-notebook-cell:/c%3A/Users/79632/VsProjects/trashcan/Laba5.ipynb#W1sZmlsZQ%3D%3D?line=29'>30</a>\u001b[0m     coord_points_final[m] \u001b[39m=\u001b[39m point\n\u001b[0;32m     <a href='vscode-notebook-cell:/c%3A/Users/79632/VsProjects/trashcan/Laba5.ipynb#W1sZmlsZQ%3D%3D?line=32'>33</a>\u001b[0m x_final \u001b[39m=\u001b[39m coord_points_final[:, \u001b[39m0\u001b[39m]\n",
      "\u001b[1;31mKeyboardInterrupt\u001b[0m: "
     ]
    }
   ],
   "source": [
    "def move_direction():\n",
    "    r = np.random.uniform(0., 1.)\n",
    "    if r <= 0.25:\n",
    "        return np.array([0, 1])\n",
    "    elif r <= 0.5:\n",
    "        return np.array([1, 0])\n",
    "    elif r <= 0.75:\n",
    "        return np.array([-1, 0])\n",
    "    else:\n",
    "        return np.array([0, -1])\n",
    "\n",
    "def give_lenght():\n",
    "    r = np.random.uniform(0., 1.)\n",
    "    return 2 * r / (1 - r*r) ** 0.5\n",
    "\n",
    "\n",
    "N = 1000\n",
    "M = 100000\n",
    "coord_points_final = np.zeros((M, 2))\n",
    "\n",
    "for m in range(M):\n",
    "    point = np.array([0., 0.])\n",
    "\n",
    "    for _ in range(N):\n",
    "        direction = move_direction()\n",
    "        l = give_lenght()\n",
    "\n",
    "        point += direction * l\n",
    "\n",
    "    coord_points_final[m] = point\n",
    "\n",
    "\n",
    "x_final = coord_points_final[:, 0]\n",
    "y_final = coord_points_final[:, 1]\n",
    "plt.plot(x_final, y_final, '.')\n",
    "# c = {'right': 0, 'up': 0, 'left' : 0, 'down' : 0}\n",
    "\n",
    "# for i in range(100000):\n",
    "#     c[move_direction()] += 1\n",
    "\n",
    "# print(c)"
   ]
  },
  {
   "cell_type": "code",
   "execution_count": 49,
   "metadata": {},
   "outputs": [
    {
     "name": "stdout",
     "output_type": "stream",
     "text": [
      "mx =  -0.8376737207709897\n",
      "my =  -0.48391279882410654\n",
      "rn =  0.9674031524323735\n",
      "sigmax =  62.211521151536175\n",
      "sigmay =  66.44747665636753\n",
      "rn2 =  8285.540517986541\n"
     ]
    }
   ],
   "source": [
    "mx = sum(x_final) / M\n",
    "my = sum(y_final) / M\n",
    "rn = np.sqrt(mx**2 + my**2)\n",
    "\n",
    "sigmax = sum(x_final ** 2) / M - mx ** 2\n",
    "sigmay = sum(y_final ** 2) / M - my ** 2\n",
    "rn2 = sigmax + sigmay\n",
    "\n",
    "print('mx = ', mx)\n",
    "print('my = ', my)\n",
    "print('rn = ', rn)\n",
    "print('sigmax = ', np.sqrt(sigmax))\n",
    "print('sigmay = ', np.sqrt(sigmay))\n",
    "print('rn2 = ', rn2)"
   ]
  },
  {
   "cell_type": "code",
   "execution_count": null,
   "metadata": {},
   "outputs": [],
   "source": []
  },
  {
   "cell_type": "code",
   "execution_count": 17,
   "metadata": {},
   "outputs": [
    {
     "data": {
      "text/plain": [
       "array([[0., 0.],\n",
       "       [0., 0.],\n",
       "       [0., 0.],\n",
       "       [0., 0.],\n",
       "       [0., 0.],\n",
       "       [0., 0.],\n",
       "       [0., 0.],\n",
       "       [0., 0.],\n",
       "       [0., 0.],\n",
       "       [0., 0.]])"
      ]
     },
     "execution_count": 17,
     "metadata": {},
     "output_type": "execute_result"
    }
   ],
   "source": []
  },
  {
   "cell_type": "code",
   "execution_count": 11,
   "metadata": {},
   "outputs": [
    {
     "data": {
      "text/plain": [
       "array([0., 0., 0., 0., 0., 0., 0., 0., 0., 0., 0., 0., 0., 0., 0., 0., 0.,\n",
       "       0., 0., 0., 0., 0., 0., 0., 0., 0., 0., 0., 0., 0., 0., 0., 0., 0.,\n",
       "       0., 0., 0., 0., 0., 0., 0., 0., 0., 0., 0., 0., 0., 0., 0., 0., 0.,\n",
       "       0., 0., 0., 0., 0., 0., 0., 0., 0., 0., 0., 0., 0., 0., 0., 0., 0.,\n",
       "       0., 0., 0., 0., 0., 0., 0., 0., 0., 0., 0., 0., 0., 0., 0., 0., 0.,\n",
       "       0., 0., 0., 0., 0., 0., 0., 0., 0., 0., 0., 0., 0., 0., 0.])"
      ]
     },
     "execution_count": 11,
     "metadata": {},
     "output_type": "execute_result"
    }
   ],
   "source": []
  },
  {
   "cell_type": "code",
   "execution_count": null,
   "metadata": {},
   "outputs": [],
   "source": []
  }
 ],
 "metadata": {
  "kernelspec": {
   "display_name": "base",
   "language": "python",
   "name": "python3"
  },
  "language_info": {
   "codemirror_mode": {
    "name": "ipython",
    "version": 3
   },
   "file_extension": ".py",
   "mimetype": "text/x-python",
   "name": "python",
   "nbconvert_exporter": "python",
   "pygments_lexer": "ipython3",
   "version": "3.9.12"
  }
 },
 "nbformat": 4,
 "nbformat_minor": 2
}
